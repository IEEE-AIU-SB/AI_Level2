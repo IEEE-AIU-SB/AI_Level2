{
 "cells": [
  {
   "cell_type": "markdown",
   "metadata": {},
   "source": [
    "# Python Basics\n",
    "To work with python, we need to understand how to use the basics, and how to create simple programs, including the core principles of programming. You took filesystems, and program flow last session, now we need to understand how to use the Object Oriented Programming Principles in Python.\n"
   ]
  },
  {
   "cell_type": "markdown",
   "metadata": {},
   "source": [
    "## Class Definitions\n",
    "in Python, you can define a class as follow:"
   ]
  },
  {
   "cell_type": "code",
   "execution_count": 1,
   "metadata": {},
   "outputs": [],
   "source": [
    "class Car:\n",
    "    def __init__(self, brand, model):\n",
    "        self.brand = brand\n",
    "        self.model = model\n",
    "\n",
    "    def display_info(self):\n",
    "        print(f\"{self.brand} {self.model}\")\n",
    "        "
   ]
  },
  {
   "cell_type": "code",
   "execution_count": 2,
   "metadata": {},
   "outputs": [
    {
     "name": "stdout",
     "output_type": "stream",
     "text": [
      "Toyota Corolla\n"
     ]
    }
   ],
   "source": [
    "my_car = Car(\"Toyota\", \"Corolla\")\n",
    "my_car.display_info()"
   ]
  },
  {
   "cell_type": "markdown",
   "metadata": {},
   "source": [
    "### Dynamically Adding Class Attributes\n",
    "While not recommended, you can dynamically add attributes to your classes, by doing as follows:"
   ]
  },
  {
   "cell_type": "code",
   "execution_count": 4,
   "metadata": {},
   "outputs": [],
   "source": [
    "class Person:\n",
    "    def __init__(self, name):\n",
    "        self.name = name\n"
   ]
  },
  {
   "cell_type": "code",
   "execution_count": 5,
   "metadata": {},
   "outputs": [
    {
     "name": "stdout",
     "output_type": "stream",
     "text": [
      "Alice is 25 years old\n"
     ]
    }
   ],
   "source": [
    "p = Person(\"Alice\")\n",
    "p.age = 25\n",
    "print(f\"{p.name} is {p.age} years old\")"
   ]
  },
  {
   "cell_type": "markdown",
   "metadata": {},
   "source": [
    "## Encapsulation in Python\n",
    "By adding __ behind the variable, you define the variable private as follows"
   ]
  },
  {
   "cell_type": "code",
   "execution_count": 31,
   "metadata": {},
   "outputs": [],
   "source": [
    "class BankAccount:\n",
    "    def __init__(self, balance):\n",
    "        self.__balance = balance\n",
    "\n",
    "    def get_balance(self):\n",
    "        return self.__balance\n"
   ]
  },
  {
   "cell_type": "markdown",
   "metadata": {},
   "source": [
    "You can call this function!"
   ]
  },
  {
   "cell_type": "code",
   "execution_count": 32,
   "metadata": {},
   "outputs": [
    {
     "name": "stdout",
     "output_type": "stream",
     "text": [
      "1000\n"
     ]
    }
   ],
   "source": [
    "account = BankAccount(1000)\n",
    "print(account.get_balance())"
   ]
  },
  {
   "cell_type": "markdown",
   "metadata": {},
   "source": [
    "But you cannot call this variable itself!"
   ]
  },
  {
   "cell_type": "code",
   "execution_count": null,
   "metadata": {},
   "outputs": [
    {
     "ename": "AttributeError",
     "evalue": "'BankAccount' object has no attribute '__balance'",
     "output_type": "error",
     "traceback": [
      "\u001b[0;31m---------------------------------------------------------------------------\u001b[0m",
      "\u001b[0;31mAttributeError\u001b[0m                            Traceback (most recent call last)",
      "Cell \u001b[0;32mIn[33], line 1\u001b[0m\n\u001b[0;32m----> 1\u001b[0m \u001b[38;5;28mprint\u001b[39m(\u001b[43maccount\u001b[49m\u001b[38;5;241;43m.\u001b[39;49m\u001b[43m__balance\u001b[49m)\n",
      "\u001b[0;31mAttributeError\u001b[0m: 'BankAccount' object has no attribute '__balance'"
     ]
    }
   ],
   "source": [
    "print(account.__balance)"
   ]
  },
  {
   "cell_type": "markdown",
   "metadata": {},
   "source": [
    "Here, you can use the @property tag to define a function that uses an internal property, and set it as read-only"
   ]
  },
  {
   "cell_type": "code",
   "execution_count": null,
   "metadata": {},
   "outputs": [],
   "source": [
    "class Employee:\n",
    "    def __init__(self, salary):\n",
    "        self.__salary = salary\n",
    "\n",
    "    @property\n",
    "    def salary(self):\n",
    "        return self.__salary\n",
    "    "
   ]
  },
  {
   "cell_type": "markdown",
   "metadata": {},
   "source": [
    "You can print the variable!"
   ]
  },
  {
   "cell_type": "code",
   "execution_count": null,
   "metadata": {},
   "outputs": [
    {
     "name": "stdout",
     "output_type": "stream",
     "text": [
      "50000\n"
     ]
    }
   ],
   "source": [
    "e = Employee(50000)\n",
    "print(e.salary)"
   ]
  },
  {
   "cell_type": "markdown",
   "metadata": {},
   "source": [
    "But you cannot set it!"
   ]
  },
  {
   "cell_type": "code",
   "execution_count": null,
   "metadata": {},
   "outputs": [
    {
     "ename": "AttributeError",
     "evalue": "can't set attribute 'salary'",
     "output_type": "error",
     "traceback": [
      "\u001b[0;31m---------------------------------------------------------------------------\u001b[0m",
      "\u001b[0;31mAttributeError\u001b[0m                            Traceback (most recent call last)",
      "Cell \u001b[0;32mIn[11], line 1\u001b[0m\n\u001b[0;32m----> 1\u001b[0m \u001b[43me\u001b[49m\u001b[38;5;241;43m.\u001b[39;49m\u001b[43msalary\u001b[49m \u001b[38;5;241m=\u001b[39m \u001b[38;5;241m60000\u001b[39m\n",
      "\u001b[0;31mAttributeError\u001b[0m: can't set attribute 'salary'"
     ]
    }
   ],
   "source": [
    "e.salary = 60000"
   ]
  },
  {
   "cell_type": "markdown",
   "metadata": {},
   "source": [
    "## Inheritance in Python\n",
    "A Class inherits from another class as follows. It also inherits all the functions defined in the parent class."
   ]
  },
  {
   "cell_type": "code",
   "execution_count": 38,
   "metadata": {},
   "outputs": [],
   "source": [
    "class Animal:\n",
    "    def __init__(self, name):\n",
    "        self.name = name\n",
    "\n",
    "    def speak(self):\n",
    "        return \"I make a sound\"\n",
    "    def walk(self):\n",
    "        return \"I can walk\"\n",
    "    \n",
    "class Dog(Animal):\n",
    "    def speak(self):\n",
    "        return \"Woof!\"\n"
   ]
  },
  {
   "cell_type": "code",
   "execution_count": null,
   "metadata": {},
   "outputs": [
    {
     "name": "stdout",
     "output_type": "stream",
     "text": [
      "Woof!\n",
      "I can walk\n",
      "Rex\n"
     ]
    }
   ],
   "source": [
    "dog = Dog(\"Rex\")\n",
    "print(dog.speak())\n",
    "print(dog.walk())\n",
    "print(dog.name)\n"
   ]
  },
  {
   "cell_type": "markdown",
   "metadata": {},
   "source": [
    "A Class can also inherit from multiple classes, as follows"
   ]
  },
  {
   "cell_type": "code",
   "execution_count": null,
   "metadata": {},
   "outputs": [],
   "source": [
    "class Flyer:\n",
    "    def fly(self):\n",
    "        return \"I can fly!\"\n",
    "class Swimmer:\n",
    "    def swim(self):\n",
    "        return \"I can swim!\"\n",
    "class FlyingFish(Flyer, Swimmer):\n",
    "    pass\n"
   ]
  },
  {
   "cell_type": "code",
   "execution_count": null,
   "metadata": {},
   "outputs": [
    {
     "name": "stdout",
     "output_type": "stream",
     "text": [
      "I can fly!\n",
      "I can swim!\n"
     ]
    }
   ],
   "source": [
    "d = FlyingFish()\n",
    "print(d.fly())\n",
    "print(d.swim())"
   ]
  },
  {
   "cell_type": "markdown",
   "metadata": {},
   "source": [
    "Here, we can overload a function to allow us to change the functionality of the original class's function"
   ]
  },
  {
   "cell_type": "code",
   "execution_count": null,
   "metadata": {},
   "outputs": [],
   "source": [
    "class Bird:\n",
    "    def __init__(self, name):\n",
    "        self.name = name\n",
    "\n",
    "    def speak(self):\n",
    "        return \"Chirp!\"\n",
    "    \n",
    "class Penguin(Bird):\n",
    "    def speak(self):\n",
    "        return \"Honk!\""
   ]
  },
  {
   "cell_type": "code",
   "execution_count": null,
   "metadata": {},
   "outputs": [
    {
     "name": "stdout",
     "output_type": "stream",
     "text": [
      "Honk!\n",
      "Chirp!\n"
     ]
    }
   ],
   "source": [
    "p = Penguin(\"Pingu\")\n",
    "print(p.speak())\n",
    "\n",
    "b = Bird(\"Tweety\")\n",
    "print(b.speak())"
   ]
  },
  {
   "cell_type": "markdown",
   "metadata": {},
   "source": [
    "## Duck Typing (Dynamic Polymorphism)\n",
    "Python objects do not need to be tied by a direct parent class. If function names are the same, you can call the functions, and they will accuratly be called"
   ]
  },
  {
   "cell_type": "code",
   "execution_count": null,
   "metadata": {},
   "outputs": [
    {
     "name": "stdout",
     "output_type": "stream",
     "text": [
      "Woof!\n",
      "Meow!\n"
     ]
    }
   ],
   "source": [
    "class Dog:\n",
    "    def __init__(self, name):\n",
    "        self.name = name\n",
    "\n",
    "    def speak(self):\n",
    "        return \"Woof!\"\n",
    "    \n",
    "class Cat:\n",
    "    def __init__(self, name):\n",
    "        self.name = name\n",
    "\n",
    "    def speak(self):\n",
    "        return \"Meow!\"\n",
    "    \n",
    "def get_pet_sound(pet):\n",
    "    return pet.speak()\n",
    "\n",
    "dog = Dog(\"Rex\")\n",
    "print(get_pet_sound(dog))\n",
    "cat = Cat(\"Whiskers\")\n",
    "print(get_pet_sound(cat))\n"
   ]
  },
  {
   "cell_type": "markdown",
   "metadata": {},
   "source": [
    "## Abstract Classes\n",
    "We have abstraction in python as well, which means that here, the Vehicle Class is basically a blueprint for any classes made as its child class. No Vehicle Object can be made"
   ]
  },
  {
   "cell_type": "code",
   "execution_count": null,
   "metadata": {},
   "outputs": [
    {
     "name": "stdout",
     "output_type": "stream",
     "text": [
      "150\n"
     ]
    }
   ],
   "source": [
    "from abc import ABC, abstractmethod\n",
    "\n",
    "class Vehicle(ABC):\n",
    "    @abstractmethod\n",
    "    def max_speed(self):\n",
    "        pass\n",
    "\n",
    "class Car(Vehicle):\n",
    "    def max_speed(self):\n",
    "        return 150\n",
    "    \n",
    "c = Car()\n",
    "print(c.max_speed())\n"
   ]
  },
  {
   "cell_type": "code",
   "execution_count": null,
   "metadata": {},
   "outputs": [
    {
     "ename": "TypeError",
     "evalue": "Can't instantiate abstract class Vehicle with abstract method max_speed",
     "output_type": "error",
     "traceback": [
      "\u001b[0;31m---------------------------------------------------------------------------\u001b[0m",
      "\u001b[0;31mTypeError\u001b[0m                                 Traceback (most recent call last)",
      "Cell \u001b[0;32mIn[21], line 1\u001b[0m\n\u001b[0;32m----> 1\u001b[0m v \u001b[38;5;241m=\u001b[39m \u001b[43mVehicle\u001b[49m\u001b[43m(\u001b[49m\u001b[43m)\u001b[49m\n",
      "\u001b[0;31mTypeError\u001b[0m: Can't instantiate abstract class Vehicle with abstract method max_speed"
     ]
    }
   ],
   "source": [
    "v = Vehicle()"
   ]
  },
  {
   "cell_type": "markdown",
   "metadata": {},
   "source": [
    "You can define a function in the abstract class, complete with its logic, and the childern will inherit the function and the logic"
   ]
  },
  {
   "cell_type": "code",
   "execution_count": null,
   "metadata": {},
   "outputs": [
    {
     "name": "stdout",
     "output_type": "stream",
     "text": [
      "Processing payment...\n",
      "Credit card payment of 100\n"
     ]
    }
   ],
   "source": [
    "class Payment(ABC):\n",
    "    def process_payment(self):\n",
    "        print(f\"Processing payment...\")\n",
    "    \n",
    "    @abstractmethod\n",
    "    def pay(self, amount):\n",
    "        pass\n",
    "\n",
    "class CreditCardPayment(Payment):\n",
    "    def pay(self, amount):\n",
    "        print(f\"Credit card payment of {amount}\")\n",
    "\n",
    "payment = CreditCardPayment()\n",
    "payment.process_payment()\n",
    "payment.pay(100)\n"
   ]
  },
  {
   "cell_type": "markdown",
   "metadata": {},
   "source": [
    "## Magic Functions in Python\n",
    "Python contains some functions, which are represented by the two __ surrounding its name. these are called \"Magic Functions\". These can allow us to use builtins in Python correctly."
   ]
  },
  {
   "cell_type": "markdown",
   "metadata": {},
   "source": [
    "Here we can see some of these magic functions as follows\n",
    "- `__str__`\n",
    "    - Creates a human-readable string representation\n",
    "- `__repr__`\n",
    "    - Creates an Official Representation\n"
   ]
  },
  {
   "cell_type": "code",
   "execution_count": null,
   "metadata": {},
   "outputs": [
    {
     "name": "stdout",
     "output_type": "stream",
     "text": [
      "Alice is 25 years old\n",
      "Person('Alice', 25)\n"
     ]
    }
   ],
   "source": [
    "class Person:\n",
    "    def __init__(self, name, age):  # Object initialization    def walk(self):\n",
    "        pass\n",
    "        self.name = name\n",
    "        self.age = age\n",
    "\n",
    "    def __str__(self):  # Human-readable string representation\n",
    "        return f\"{self.name} is {self.age} years old\"\n",
    "\n",
    "    def __repr__(self):  # Official representation (useful for debugging)\n",
    "        return f\"Person('{self.name}', {self.age})\"\n",
    "\n",
    "p = Person(\"Alice\", 25)\n",
    "print(str(p))   # Calls __str__()\n",
    "print(repr(p))  # Calls __repr__()\n"
   ]
  },
  {
   "cell_type": "markdown",
   "metadata": {},
   "source": [
    "- `__add__` Addition for classes\n",
    "- `__sub__` Subtraction for classes\n",
    "- `__mul__` Multiplication for classes\n",
    "- `__truediv__` Division for classes"
   ]
  },
  {
   "cell_type": "code",
   "execution_count": null,
   "metadata": {},
   "outputs": [
    {
     "name": "stdout",
     "output_type": "stream",
     "text": [
      "15\n",
      "5\n",
      "50\n",
      "2.0\n"
     ]
    }
   ],
   "source": [
    "class Number:\n",
    "    def __init__(self, value):\n",
    "        self.value = value\n",
    "\n",
    "    def __add__(self, other):  # Addition\n",
    "        return Number(self.value + other.value)\n",
    "\n",
    "    def __sub__(self, other):  # Subtraction\n",
    "        return Number(self.value - other.value)\n",
    "\n",
    "    def __mul__(self, other):  # Multiplication\n",
    "        return Number(self.value * other.value)\n",
    "\n",
    "    def __truediv__(self, other):  # Division\n",
    "        return Number(self.value / other.value)\n",
    "\n",
    "    def __str__(self):\n",
    "        return str(self.value)\n",
    "\n",
    "a = Number(10)\n",
    "b = Number(5)\n",
    "\n",
    "print(a + b)  # Calls __add__()\n",
    "print(a - b)  # Calls __sub__()\n",
    "print(a * b)  # Calls __mul__()\n",
    "print(a / b)  # Calls __truediv__()\n",
    "\n"
   ]
  },
  {
   "cell_type": "markdown",
   "metadata": {},
   "source": [
    "- `__eq__` Equality Comparetor\n",
    "- `__lt__` Less than Comparetor\n",
    "- `__gt__` More than Comparetor"
   ]
  },
  {
   "cell_type": "code",
   "execution_count": null,
   "metadata": {},
   "outputs": [
    {
     "name": "stdout",
     "output_type": "stream",
     "text": [
      "False\n",
      "True\n",
      "False\n"
     ]
    }
   ],
   "source": [
    "class Box:\n",
    "    def __init__(self, weight):\n",
    "        self.weight = weight\n",
    "\n",
    "    def __eq__(self, other):  # Equality\n",
    "        return self.weight == other.weight\n",
    "\n",
    "    def __lt__(self, other):  # Less than\n",
    "        return self.weight < other.weight\n",
    "\n",
    "    def __gt__(self, other):  # Greater than\n",
    "        return self.weight > other.weight\n",
    "\n",
    "box1 = Box(10)\n",
    "box2 = Box(20)\n",
    "\n",
    "print(box1 == box2)  # Calls __eq__()\n",
    "print(box1 < box2)   # Calls __lt__()\n",
    "print(box1 > box2)   # Calls __gt__()\n"
   ]
  },
  {
   "cell_type": "markdown",
   "metadata": {},
   "source": [
    "- `__setitem__` assignes items in a list\n",
    "- `__getitem__` retrieves item from a list\n",
    "- `__len__` gets the length of the item"
   ]
  },
  {
   "cell_type": "code",
   "execution_count": null,
   "metadata": {},
   "outputs": [
    {
     "name": "stdout",
     "output_type": "stream",
     "text": [
      "3\n",
      "2\n"
     ]
    }
   ],
   "source": [
    "class ShoppingCart:\n",
    "    def __init__(self):\n",
    "        self.items = {}\n",
    "\n",
    "    def __setitem__(self, key, value):  # Item assignment\n",
    "        self.items[key] = value\n",
    "\n",
    "    def __getitem__(self, key):  # Item retrieval\n",
    "        return self.items.get(key, \"Not found\")\n",
    "\n",
    "    def __len__(self):  # Length of the object\n",
    "        return len(self.items)\n",
    "\n",
    "cart = ShoppingCart()\n",
    "cart[\"apple\"] = 3  # Calls __setitem__()\n",
    "cart[\"banana\"] = 5\n",
    "\n",
    "print(cart[\"apple\"])  # Calls __getitem__()\n",
    "print(len(cart))      # Calls __len__()\n"
   ]
  },
  {
   "cell_type": "markdown",
   "metadata": {},
   "source": [
    "- `__iter__` for iterations\n",
    "- `__next__` defines the next item"
   ]
  },
  {
   "cell_type": "code",
   "execution_count": null,
   "metadata": {},
   "outputs": [
    {
     "name": "stdout",
     "output_type": "stream",
     "text": [
      "1\n",
      "2\n",
      "3\n",
      "4\n"
     ]
    }
   ],
   "source": [
    "class Counter:\n",
    "    def __init__(self, start, end):\n",
    "        self.current = start\n",
    "        self.end = end\n",
    "\n",
    "    def __iter__(self):  # Returns the iterator object\n",
    "        return self\n",
    "\n",
    "    def __next__(self):  # Defines the next item\n",
    "        if self.current >= self.end:\n",
    "            raise StopIteration\n",
    "        self.current += 1\n",
    "        return self.current - 1\n",
    "\n",
    "counter = Counter(1, 5)\n",
    "\n",
    "for num in counter:  # Calls __iter__() and __next__()\n",
    "    print(num)\n"
   ]
  },
  {
   "cell_type": "code",
   "execution_count": null,
   "metadata": {},
   "outputs": [],
   "source": []
  }
 ],
 "metadata": {
  "kernelspec": {
   "display_name": "localize",
   "language": "python",
   "name": "python3"
  },
  "language_info": {
   "codemirror_mode": {
    "name": "ipython",
    "version": 3
   },
   "file_extension": ".py",
   "mimetype": "text/x-python",
   "name": "python",
   "nbconvert_exporter": "python",
   "pygments_lexer": "ipython3",
   "version": "3.10.16"
  }
 },
 "nbformat": 4,
 "nbformat_minor": 2
}
