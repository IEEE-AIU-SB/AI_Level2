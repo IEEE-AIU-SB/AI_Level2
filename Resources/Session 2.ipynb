{
 "cells": [
  {
   "cell_type": "markdown",
   "metadata": {},
   "source": [
    "# Comprehensive Python Programming Guide"
   ]
  },
  {
   "cell_type": "markdown",
   "metadata": {},
   "source": [
    "## 1. Introduction to Python\n",
    "Python is a **high-level, general-purpose programming language** that emphasizes code readability and ease of use. It was developed by **Guido van Rossum** and first released in **1991**. Python follows an **interpreted** and **dynamically typed** paradigm, meaning that code execution happens line by line without requiring prior compilation, and variable types are determined at runtime.  \n",
    "\n",
    "Python's **design philosophy** is centered around **code readability**, favoring indentation over explicit delimiters like curly braces. This approach facilitates **structured, clean, and maintainable** code. Due to its **versatility**, Python is widely used in various domains, including **web development, data science, artificial intelligence, automation, and scientific computing**. Its extensive **standard library and third-party modules** further enhance its applicability across multiple fields.  \n",
    "\n",
    "The language supports multiple programming paradigms, including **procedural, object-oriented, and functional programming**, making it suitable for a diverse range of applications. Python's continued growth and adoption in academia and industry can be attributed to its **simplicity, efficiency, and strong community support**.\n"
   ]
  },
  {
   "cell_type": "code",
   "execution_count": 72,
   "metadata": {},
   "outputs": [
    {
     "name": "stdout",
     "output_type": "stream",
     "text": [
      "Hello, World!\n"
     ]
    }
   ],
   "source": [
    "print(\"Hello, World!\")"
   ]
  },
  {
   "cell_type": "markdown",
   "metadata": {},
   "source": [
    "## 2. Installation Guide\n",
    "\n",
    "Ready to dive in? Setting up Python is a breeze. Pick a method, download, install, and verify—here's how to get started fast.\n",
    "\n",
    "- **Official Python**: Snag the latest version from [python.org](https://www.python.org/downloads/). Install it, then type `python --version` in your terminal to confirm.\n",
    "- **Anaconda**: A data-science-friendly bundle with Python and extras. Grab it from [anaconda.com](https://www.anaconda.com/products/distribution).\n",
    "- **VS Code**: A stellar editor for Python coding. Download it at [code.visualstudio.com](https://code.visualstudio.com/), then add the Python extension for a smooth ride."
   ]
  },
  {
   "cell_type": "code",
   "execution_count": 73,
   "metadata": {},
   "outputs": [
    {
     "name": "stdout",
     "output_type": "stream",
     "text": [
      "3.11.9 (tags/v3.11.9:de54cf5, Apr  2 2024, 10:12:12) [MSC v.1938 64 bit (AMD64)]\n"
     ]
    }
   ],
   "source": [
    "import sys\n",
    "print(sys.version)  # Shows your installed Python version"
   ]
  },
  {
   "cell_type": "markdown",
   "metadata": {},
   "source": [
    "## 3. Environment Management\n",
    "\n",
    "Imagine juggling multiple projects—different tools, different versions. Virtual environments keep things tidy by isolating dependencies, avoiding chaos when libraries clash.\n",
    "\n",
    "Two Main Tools:\n",
    "\n",
    "**Conda** (Anaconda's gem):\n",
    "* Create: `conda create --name myenv python=3.8` (locks in Python 3.8)\n",
    "* Activate: `conda activate myenv`\n",
    "* Add packages: `conda install numpy pandas`\n",
    "* See what's installed: `conda list`\n",
    "* Exit: `conda deactivate`\n",
    "* Trash it: `conda env remove --name myenv`\n",
    "\n",
    "**venv** (Python's built-in option):\n",
    "* Create: `python -m venv myenv`\n",
    "* Activate: `myenv\\Scripts\\activate` (Windows) or `source myenv/bin/activate` (macOS/Linux)\n",
    "* Add packages: `pip install numpy pandas`\n",
    "* Check packages: `pip list`\n",
    "* Exit: `deactivate`\n",
    "* Trash it: Delete the `myenv` folder\n",
    "\n",
    "Switching Trick: Deactivate one environment (`conda deactivate` or `deactivate`), then activate another (e.g., `conda activate otherenv`).\n",
    "\n",
    "Note: Think of environments as separate sandboxes—perfect for testing without breaking your main setup!"
   ]
  },
  {
   "cell_type": "markdown",
   "metadata": {},
   "source": [
    "## 4. Python Fundamentals\n",
    "\n",
    "This section dives deep into Python's core, leveling up your skills with advanced control flow, data types, and functions. It's designed for coders familiar with programming, ready for more.\n",
    "\n",
    "### 4.1 Basic Syntax and Data Types\n",
    "\n",
    "#### 4.1.1 Variables and Dynamic Typing\n",
    "Python uses dynamic typing, which means you don't need to declare variable types explicitly. The interpreter determines the type at runtime.\n"
   ]
  },
  {
   "cell_type": "code",
   "execution_count": 74,
   "metadata": {},
   "outputs": [
    {
     "name": "stdout",
     "output_type": "stream",
     "text": [
      "x = 5, type: <class 'int'>\n",
      "x = hello, type: <class 'str'>\n",
      "x = [1, 2, 3], type: <class 'list'>\n"
     ]
    }
   ],
   "source": [
    "# Dynamic typing in action\n",
    "x = 5              # x is an integer\n",
    "print(f\"x = {x}, type: {type(x)}\")\n",
    "\n",
    "x = \"hello\"        # Now x is a string\n",
    "print(f\"x = {x}, type: {type(x)}\")\n",
    "\n",
    "x = [1, 2, 3]      # Now x is a list\n",
    "print(f\"x = {x}, type: {type(x)}\")"
   ]
  },
  {
   "cell_type": "markdown",
   "metadata": {},
   "source": [
    "Python variable naming follows these rules:\n",
    "\n",
    "- Must start with a letter or underscore\n",
    "- Can contain letters, numbers, and underscores\n",
    "- Cannot be a Python keyword (like if, for, class, etc.)\n",
    "- Case-sensitive (variable and Variable are different)"
   ]
  },
  {
   "cell_type": "code",
   "execution_count": 75,
   "metadata": {},
   "outputs": [],
   "source": [
    "# Valid variable names\n",
    "snake_case_variable = 1    # Conventional for variables\n",
    "CONSTANT_VALUE = 3.14      # Conventional for constants\n",
    "_private_var = \"hidden\"    # Often used for \"private\" variables\n",
    "camelCaseVariable = True   # Used sometimes, but less Pythonic\n",
    "\n",
    "# Invalid variable names (would cause syntax errors):\n",
    "# 2variable = \"invalid\"    # Cannot start with a number\n",
    "# my-variable = 5          # Hyphens are not allowed\n",
    "# class = \"Student\"        # Cannot use Python keywords"
   ]
  },
  {
   "cell_type": "markdown",
   "metadata": {},
   "source": [
    "#### 4.1.2 Operators\n",
    "Python supports a rich set of operators for various operations:"
   ]
  },
  {
   "cell_type": "code",
   "execution_count": 76,
   "metadata": {},
   "outputs": [
    {
     "name": "stdout",
     "output_type": "stream",
     "text": [
      "Regular division (float result): 3.3333333333333335\n",
      "Floor division (integer result): 3\n",
      "Modulus (remainder): 1\n",
      "Exponentiation: 1000\n",
      "Negative floor division: -4\n",
      "Is x between 1 and 10? True\n",
      "Binary AND: 8 (0b1000)\n",
      "Binary OR: 14 (0b1110)\n",
      "Binary XOR: 6 (0b110)\n",
      "Binary NOT of 12: -13\n",
      "Left shift by 2: 48 (0b110000)\n",
      "Right shift by 2: 3 (0b11)\n"
     ]
    }
   ],
   "source": [
    "# Arithmetic operators with some advanced usage\n",
    "a, b = 10, 3\n",
    "\n",
    "print(f\"Regular division (float result): {a / b}\")         # 3.3333...\n",
    "print(f\"Floor division (integer result): {a // b}\")        # 3\n",
    "print(f\"Modulus (remainder): {a % b}\")                     # 1\n",
    "print(f\"Exponentiation: {a ** b}\")                         # 1000\n",
    "print(f\"Negative floor division: {-a // b}\")               # -4 (rounds down, not toward zero)\n",
    "\n",
    "# Chained comparison operators\n",
    "x = 5\n",
    "result = 1 < x < 10        # Equivalent to: 1 < x and x < 10\n",
    "print(f\"Is x between 1 and 10? {result}\")  # True\n",
    "\n",
    "# Bitwise operators for binary manipulation\n",
    "a, b = 0b1100, 0b1010      # Binary literals: 12 and 10 in decimal\n",
    "print(f\"Binary AND: {a & b} (0b{a & b:b})\")               # 8 (0b1000)\n",
    "print(f\"Binary OR: {a | b} (0b{a | b:b})\")                # 14 (0b1110)\n",
    "print(f\"Binary XOR: {a ^ b} (0b{a ^ b:b})\")               # 6 (0b110)\n",
    "print(f\"Binary NOT of {a}: {~a}\")                         # -13 (due to two's complement)\n",
    "print(f\"Left shift by 2: {a << 2} (0b{a << 2:b})\")        # 48 (0b110000)\n",
    "print(f\"Right shift by 2: {a >> 2} (0b{a >> 2:b})\")       # 3 (0b11)"
   ]
  },
  {
   "cell_type": "markdown",
   "metadata": {},
   "source": [
    "#### 4.1.3 Input/Output\n",
    "While print() and input() are basic I/O operations, we can use them in more sophisticated ways:"
   ]
  },
  {
   "cell_type": "code",
   "execution_count": 77,
   "id": "4e815af7",
   "metadata": {},
   "outputs": [
    {
     "name": "stdout",
     "output_type": "stream",
     "text": [
      "Name: Alice, Age: 30, Items: laptop, phone, coffee\n",
      "Multiple arguments joined with spaces\n",
      "CSV;format;with;semicolons\n",
      "No newline at the end continues on the same line\n",
      "Your list: ['1', '1', '1']\n"
     ]
    }
   ],
   "source": [
    "# Formatted string literals (f-strings) for complex output\n",
    "name = \"Alice\"\n",
    "age = 30\n",
    "items = [\"laptop\", \"phone\", \"coffee\"]\n",
    "print(f\"Name: {name}, Age: {age}, Items: {', '.join(items)}\")\n",
    "\n",
    "# Using print with various parameters\n",
    "print(\"Multiple\", \"arguments\", \"joined\", \"with\", \"spaces\")\n",
    "print(\"CSV\", \"format\", \"with\", \"semicolons\", sep=\";\")\n",
    "print(\"No newline at the end\", end=\" \")\n",
    "print(\"continues on the same line\")\n",
    "\n",
    "# Redirecting print output to a file\n",
    "with open(\"output.txt\", \"w\") as f:\n",
    "    print(\"This goes to a file\", file=f)\n",
    "\n",
    "# Input with validation\n",
    "while True:\n",
    "    try:\n",
    "        age = int(input(\"Enter your age: \"))\n",
    "        if age < 0 or age > 150:\n",
    "            print(\"Age must be between 0 and 150\")\n",
    "            continue\n",
    "        break\n",
    "    except ValueError:\n",
    "        print(\"Please enter a valid number\")\n",
    "\n",
    "# Using input to build complex data structures\n",
    "num_entries = int(input(\"How many items to add to your list? \"))\n",
    "user_list = []\n",
    "for i in range(num_entries):\n",
    "    item = input(f\"Enter item {i+1}: \")\n",
    "    user_list.append(item)\n",
    "print(f\"Your list: {user_list}\")"
   ]
  },
  {
   "cell_type": "markdown",
   "id": "172df2eb",
   "metadata": {},
   "source": [
    "#### 4.1.4  Primitive Data Types\n",
    "Pythons primitive types offer many interesting characteristics"
   ]
  },
  {
   "cell_type": "code",
   "execution_count": null,
   "id": "efa52aaa",
   "metadata": {},
   "outputs": [
    {
     "name": "stdout",
     "output_type": "stream",
     "text": [
      "Large integer: 1000000000000000000000\n",
      "Integer in binary: 0b11111111\n",
      "Integer in octal: 0o377\n",
      "Integer in hex: 0xff\n",
      "Float max precision: 15 digits\n",
      "Epsilon (smallest difference): 2.220446049250313e-16\n",
      "Infinity: inf, Negative infinity: -inf\n",
      "Not a Number: nan\n",
      "Is NaN equal to itself? False\n",
      "Character at position 7: P\n",
      "Slice from 7 to 12: Progr\n",
      "Every second character: Pto rgamn\n",
      "Reversed string: gnimmargorP nohtyP\n",
      "Raw string: C:\\new\\text\\file.txt\n",
      "bool(empty_list): False\n",
      "bool(empty_string): False\n",
      "bool(zero): False\n",
      "bool(none_value): False\n",
      "Empty collections are falsy\n"
     ]
    }
   ],
   "source": [
    "# Integer behavior\n",
    "x = 1000000000000000000000  # Arbitrary precision integers\n",
    "print(f\"Large integer: {x}\")\n",
    "print(f\"Integer in binary: {bin(255)}\")\n",
    "print(f\"Integer in octal: {oct(255)}\")\n",
    "print(f\"Integer in hex: {hex(255)}\")\n",
    "\n",
    "\n",
    "import math\n",
    "print(f\"Infinity: {math.inf}, Negative infinity: {-math.inf}\")\n",
    "print(f\"Not a Number: {math.nan}\")\n",
    "print(f\"Is NaN equal to itself? {math.nan == math.nan}\")  # False\n",
    "\n",
    "# String advanced features\n",
    "s = \"Python Programming\"\n",
    "print(f\"Character at position 7: {s[7]}\")\n",
    "print(f\"Slice from 7 to 12: {s[7:12]}\")\n",
    "print(f\"Every second character: {s[::2]}\")\n",
    "print(f\"Reversed string: {s[::-1]}\")\n",
    "\n",
    "# Raw strings (useful for regex, file paths)\n",
    "raw_path = r\"C:\\new\\text\\file.txt\"  # Backslashes are not treated as escape chars\n",
    "print(f\"Raw string: {raw_path}\")\n",
    "\n",
    "# Boolean logic with truthy/falsy values\n",
    "empty_list = []\n",
    "empty_string = \"\"\n",
    "zero = 0\n",
    "none_value = None\n",
    "\n",
    "# All of these evaluate to False in boolean context\n",
    "print(f\"bool(empty_list): {bool(empty_list)}\")\n",
    "print(f\"bool(empty_string): {bool(empty_string)}\")\n",
    "print(f\"bool(zero): {bool(zero)}\")\n",
    "print(f\"bool(none_value): {bool(none_value)}\")\n",
    "\n",
    "# Truth value testing\n",
    "if empty_list:\n",
    "    print(\"This won't execute\")\n",
    "else:\n",
    "    print(\"Empty collections are falsy\")"
   ]
  },
  {
   "cell_type": "markdown",
   "id": "8e456adf",
   "metadata": {},
   "source": [
    "#### 4.1.5  Type Conversion\n",
    "Pythons primitive types offer many interesting characteristics"
   ]
  },
  {
   "cell_type": "code",
   "execution_count": 79,
   "metadata": {},
   "outputs": [
    {
     "name": "stdout",
     "output_type": "stream",
     "text": [
      "String: 3.14159, Float: 3.14159, Int: 3\n",
      "Tuple: (1, 2, 3, 4), List: [1, 2, 3, 4]\n",
      "Dict items as list: [('a', 1), ('b', 2)]\n"
     ]
    }
   ],
   "source": [
    "# Advanced type conversion scenarios\n",
    "num_str = \"3.14159\"\n",
    "num_float = float(num_str)  # String to float\n",
    "num_int = int(num_float)    # Float to int (truncates decimal part)\n",
    "print(f\"String: {num_str}, Float: {num_float}, Int: {num_int}\")\n",
    "\n",
    "# Converting collections\n",
    "tuple_data = (1, 2, 3, 4)\n",
    "list_data = list(tuple_data)  # Tuple to list\n",
    "print(f\"Tuple: {tuple_data}, List: {list_data}\")\n",
    "\n",
    "dict_data = {\"a\": 1, \"b\": 2}\n",
    "items_list = list(dict_data.items())  # Dictionary items to list\n",
    "print(f\"Dict items as list: {items_list}\")\n",
    "\n"
   ]
  },
  {
   "cell_type": "markdown",
   "id": "d794fa67",
   "metadata": {},
   "source": [
    "### 4.2: Data Structers\n",
    "\n",
    "#### 4.3.1 Lists\n",
    "While lists are fundamental, they have many advanced features and usage patterns:\n"
   ]
  },
  {
   "cell_type": "code",
   "execution_count": 80,
   "id": "78a8b78c",
   "metadata": {},
   "outputs": [
    {
     "name": "stdout",
     "output_type": "stream",
     "text": [
      "Even numbers: [2, 4, 6, 8, 10]\n",
      "Squares: [1, 4, 9, 16, 25, 36, 49, 64, 81, 100]\n",
      "Even squares: [4, 16, 36, 64, 100]\n",
      "Original: [0, 1, 2, 3, 4, 5, 6, 7, 8, 9]\n",
      "Every second number: [0, 2, 4, 6, 8]\n",
      "Every third number from index 1: [1, 4, 7]\n",
      "Reversed: [9, 8, 7, 6, 5, 4, 3, 2, 1, 0]\n",
      "After slice replacement: [0, 1, 20, 30, 40, 5, 6, 7, 8, 9]\n",
      "Original after modifying reference: [1, ['X', 3], 4]\n",
      "Shallow copy (also affected): [1, ['X', 3], 4]\n",
      "Deep copy (not affected): [1, [2, 3], 4]\n",
      "Sorted: [1, 1, 2, 3, 3, 4, 5, 5, 5, 6, 9]\n",
      "Reverse sorted: [9, 6, 5, 5, 5, 4, 3, 3, 2, 1, 1]\n",
      "Case-insensitive sort: ['apple', 'Banana', 'cherry', 'Date', 'elderberry']\n",
      "Students sorted by first name, then by score (desc): [('Alice', 'Smith', 85), ('Alice', 'Brown', 78), ('Bob', 'Jones', 92)]\n",
      "Even Squares from 1: 10 are: [4, 16, 36, 64, 100]\n"
     ]
    }
   ],
   "source": [
    "# List creation techniques\n",
    "# Using list comprehension for advanced filtering\n",
    "numbers = [1, 2, 3, 4, 5, 6, 7, 8, 9, 10]\n",
    "evens = [x for x in numbers if x % 2 == 0]\n",
    "squares = [x**2 for x in numbers]\n",
    "even_squares = [x**2 for x in numbers if x % 2 == 0]\n",
    "\n",
    "print(f\"Even numbers: {evens}\")\n",
    "print(f\"Squares: {squares}\")\n",
    "print(f\"Even squares: {even_squares}\")\n",
    "\n",
    "\n",
    "# List slicing with stride\n",
    "numbers = list(range(10))\n",
    "print(f\"Original: {numbers}\")\n",
    "print(f\"Every second number: {numbers[::2]}\")\n",
    "print(f\"Every third number from index 1: {numbers[1::3]}\")\n",
    "print(f\"Reversed: {numbers[::-1]}\")\n",
    "\n",
    "# Modifying slices\n",
    "numbers[2:5] = [20, 30, 40]\n",
    "print(f\"After slice replacement: {numbers}\")\n",
    "\n",
    "# Copy vs. reference\n",
    "original = [1, [2, 3], 4]\n",
    "reference = original          # Just a reference to the same list\n",
    "shallow_copy = original[:]    # Creates a shallow copy\n",
    "import copy\n",
    "deep_copy = copy.deepcopy(original)  # Creates a deep copy\n",
    "\n",
    "# Modify the nested list through the reference\n",
    "reference[1][0] = 'X'\n",
    "print(f\"Original after modifying reference: {original}\")       # [1, ['X', 3], 4]\n",
    "print(f\"Shallow copy (also affected): {shallow_copy}\")         # [1, ['X', 3], 4]\n",
    "print(f\"Deep copy (not affected): {deep_copy}\")                # [1, [2, 3], 4]\n",
    "\n",
    "# Advanced list operations\n",
    "data = [3, 1, 4, 1, 5, 9, 2, 6, 5, 3, 5]\n",
    "data.sort()                    # Sort in-place\n",
    "print(f\"Sorted: {data}\")\n",
    "\n",
    "data.sort(reverse=True)        # Sort in reverse\n",
    "print(f\"Reverse sorted: {data}\")\n",
    "\n",
    "# Custom sort with key function\n",
    "words = [\"apple\", \"Banana\", \"cherry\", \"Date\", \"elderberry\"]\n",
    "words.sort(key=str.lower)      # Case-insensitive sort\n",
    "print(f\"Case-insensitive sort: {words}\")\n",
    "\n",
    "# Sort by secondary criteria\n",
    "students = [\n",
    "    (\"Alice\", \"Smith\", 85),\n",
    "    (\"Bob\", \"Jones\", 92),\n",
    "    (\"Alice\", \"Brown\", 78)\n",
    "]\n",
    "# Sort by first name then by score (descending)\n",
    "students.sort(key=lambda x: (x[0], -x[2]))\n",
    "print(f\"Students sorted by first name, then by score (desc): {students}\")\n",
    "\n",
    "# Filter and map operations\n",
    "numbers = list(range(1, 11))\n",
    "# Traditional approach\n",
    "even_squares = []\n",
    "for num in numbers:\n",
    "    if num % 2 == 0:\n",
    "        even_squares.append(num ** 2)\n",
    "\n",
    "print(f\"Even Squares from 1: 10 are: {even_squares}\")"
   ]
  },
  {
   "cell_type": "markdown",
   "id": "ab507566",
   "metadata": {},
   "source": [
    "#### 4.3.2 Tupels\n",
    "Tuples offer immutability with several advantages:"
   ]
  },
  {
   "cell_type": "code",
   "execution_count": 81,
   "id": "30659ff5",
   "metadata": {},
   "outputs": [
    {
     "name": "stdout",
     "output_type": "stream",
     "text": [
      "Alice is a 30-year-old Engineer\n",
      "First: 1, Middle: [2, 3, 4], Last: 5\n",
      "After swap: a = 20, b = 10\n",
      "Min: 1, Max: 9, Average: 4.00\n"
     ]
    }
   ],
   "source": [
    "# Tuple packing and unpacking\n",
    "person = (\"Alice\", 30, \"Engineer\")  # Packing\n",
    "name, age, profession = person      # Unpacking\n",
    "print(f\"{name} is a {age}-year-old {profession}\")\n",
    "\n",
    "# Extended unpacking (Python 3.x)\n",
    "numbers = (1, 2, 3, 4, 5)\n",
    "first, *middle, last = numbers\n",
    "print(f\"First: {first}, Middle: {middle}, Last: {last}\")\n",
    "\n",
    "# Swapping variables\n",
    "a, b = 10, 20\n",
    "a, b = b, a  # Tuple packing and unpacking for swapping\n",
    "print(f\"After swap: a = {a}, b = {b}\")\n",
    "\n",
    "# Return multiple values from a function\n",
    "def get_stats(numbers):\n",
    "    \"\"\"Return min, max, and average of numbers.\"\"\"\n",
    "    return min(numbers), max(numbers), sum(numbers) / len(numbers)\n",
    "\n",
    "stats = get_stats([1, 5, 3, 9, 2])\n",
    "min_val, max_val, avg = stats\n",
    "print(f\"Min: {min_val}, Max: {max_val}, Average: {avg:.2f}\")\n",
    "\n"
   ]
  },
  {
   "cell_type": "markdown",
   "id": "bd1b197d",
   "metadata": {},
   "source": [
    "#### 4.3.3 Dictionaries\n"
   ]
  },
  {
   "cell_type": "code",
   "execution_count": 82,
   "id": "38a56765",
   "metadata": {},
   "outputs": [
    {
     "name": "stdout",
     "output_type": "stream",
     "text": [
      "Squares dictionary: {1: 1, 2: 4, 3: 9, 4: 16, 5: 25, 6: 36, 7: 49, 8: 64, 9: 81, 10: 100}\n",
      "Even squares dictionary: {2: 4, 4: 16, 6: 36, 8: 64, 10: 100}\n",
      "Merged dictionary  {'a': 1, 'b': 3, 'c': 4}\n"
     ]
    }
   ],
   "source": [
    "# Dictionary comprehensions\n",
    "squares_dict = {x: x**2 for x in range(1, 11)}\n",
    "print(f\"Squares dictionary: {squares_dict}\")\n",
    "\n",
    "# Filtering in dictionary comprehension\n",
    "even_squares = {x: x**2 for x in range(1, 11) if x % 2 == 0}\n",
    "print(f\"Even squares dictionary: {even_squares}\")\n",
    "\n",
    "# Merging dictionaries\n",
    "dict1 = {\"a\": 1, \"b\": 3}\n",
    "dict2 = {\"b\": 3, \"c\": 4}\n",
    "\n",
    "merged = {**dict1, **dict2}\n",
    "print(f\"Merged dictionary  {merged}\")\n",
    "\n"
   ]
  },
  {
   "cell_type": "markdown",
   "id": "f538c835",
   "metadata": {},
   "source": [
    "#### 4.3.4 Sets\n",
    "Sets are collections with unique elements and powerful set operations:"
   ]
  },
  {
   "cell_type": "code",
   "execution_count": 83,
   "id": "2166be2f",
   "metadata": {},
   "outputs": [
    {
     "name": "stdout",
     "output_type": "stream",
     "text": [
      "Numbers set: {1, 2, 3, 4, 5}\n",
      "Letters set: {'b', 'a', 'c'}\n",
      "Even numbers set: {0, 2, 4, 6, 8}\n",
      "After adding: {1, 2, 3, 4, 5, 6}\n",
      "After removing: {2, 4, 5, 6}, Popped: 1\n",
      "Union: {1, 2, 3, 4, 5, 6, 7, 8}\n",
      "Intersection: {4, 5}\n",
      "Difference (a - b): {1, 2, 3}\n",
      "Symmetric difference: {1, 2, 3, 6, 7, 8}\n",
      "a is subset of b: True\n",
      "b is superset of a: True\n",
      "a and c are disjoint: True\n",
      "Frozen set: frozenset({'b', 'a', 'c'})\n"
     ]
    }
   ],
   "source": [
    "# Creating sets\n",
    "numbers = {1, 2, 3, 4, 5}\n",
    "letters = set(['a', 'b', 'c'])\n",
    "print(f\"Numbers set: {numbers}\")\n",
    "print(f\"Letters set: {letters}\")\n",
    "\n",
    "# Set comprehensions\n",
    "even_set = {x for x in range(10) if x % 2 == 0}\n",
    "print(f\"Even numbers set: {even_set}\")\n",
    "\n",
    "# Adding and removing elements\n",
    "s = {1, 2, 3}\n",
    "s.add(4)        # Add single element\n",
    "s.update([5, 6])  # Add multiple elements\n",
    "print(f\"After adding: {s}\")\n",
    "\n",
    "s.remove(3)     # Raises KeyError if not found\n",
    "s.discard(10)   # No error if not found\n",
    "popped = s.pop()  # Remove and return an arbitrary element\n",
    "print(f\"After removing: {s}, Popped: {popped}\")\n",
    "\n",
    "# Set operations\n",
    "a = {1, 2, 3, 4, 5}\n",
    "b = {4, 5, 6, 7, 8}\n",
    "\n",
    "union = a | b  # or a.union(b)\n",
    "intersection = a & b  # or a.intersection(b)\n",
    "difference = a - b  # or a.difference(b)\n",
    "sym_difference = a ^ b  # or a.symmetric_difference(b)\n",
    "\n",
    "print(f\"Union: {union}\")\n",
    "print(f\"Intersection: {intersection}\")\n",
    "print(f\"Difference (a - b): {difference}\")\n",
    "print(f\"Symmetric difference: {sym_difference}\")\n",
    "\n",
    "# Testing relationships between sets\n",
    "a = {1, 2, 3}\n",
    "b = {1, 2, 3, 4, 5}\n",
    "c = {6, 7, 8}\n",
    "\n",
    "print(f\"a is subset of b: {a.issubset(b)}\")\n",
    "print(f\"b is superset of a: {b.issuperset(a)}\")\n",
    "print(f\"a and c are disjoint: {a.isdisjoint(c)}\")\n",
    "\n",
    "# Frozen sets (immutable)\n",
    "frozen = frozenset(['a', 'b', 'c'])\n",
    "print(f\"Frozen set: {frozen}\")\n",
    "\n",
    "#frozen.add('d')  # Would raise AttributeError\n"
   ]
  },
  {
   "cell_type": "markdown",
   "metadata": {},
   "source": [
    "### 4.3: Control Flow\n",
    "\n",
    "#### 4.3.1 Conditional Statements\n",
    "Conditional statements in Python can be used in sophisticated ways:"
   ]
  },
  {
   "cell_type": "code",
   "execution_count": 84,
   "metadata": {},
   "outputs": [
    {
     "name": "stdout",
     "output_type": "stream",
     "text": [
      "10 is Even\n",
      "Score: 85, Grade: B\n",
      "Eligible for premium service\n",
      "Yes, we have bananas\n",
      "Empty list\n",
      "Single item: 42\n",
      "Two items: 1 and 2\n",
      "Multiple items starting with 10, followed by 3 more\n",
      "Person: Alice, 30 years old\n",
      "Unknown data format\n"
     ]
    }
   ],
   "source": [
    "# Conditional expressions (ternary operator)\n",
    "x = 10\n",
    "message = \"Even\" if x % 2 == 0 else \"Odd\"\n",
    "print(f\"{x} is {message}\")\n",
    "\n",
    "# Multiple conditions with if-elif-else chains\n",
    "score = 85\n",
    "if score >= 90:\n",
    "    grade = \"A\"\n",
    "elif score >= 80:\n",
    "    grade = \"B\"\n",
    "elif score >= 70:\n",
    "    grade = \"C\"\n",
    "elif score >= 60:\n",
    "    grade = \"D\"\n",
    "else:\n",
    "    grade = \"F\"\n",
    "print(f\"Score: {score}, Grade: {grade}\")\n",
    "\n",
    "# Compound conditions\n",
    "age = 25\n",
    "income = 50000\n",
    "if age > 18 and income >= 40000:\n",
    "    print(\"Eligible for premium service\")\n",
    "\n",
    "# Checking membership\n",
    "fruits = [\"apple\", \"banana\", \"cherry\"]\n",
    "if \"banana\" in fruits:\n",
    "    print(\"Yes, we have bananas\")\n",
    "\n",
    "# Pattern matching (starting from Python 3.10+)\n",
    "def analyze_data(data):\n",
    "    match data:\n",
    "        case []:\n",
    "            return \"Empty list\"\n",
    "        case [x]:\n",
    "            return f\"Single item: {x}\"\n",
    "        case [x, y]:\n",
    "            return f\"Two items: {x} and {y}\"\n",
    "        case [x, *rest]:\n",
    "            return f\"Multiple items starting with {x}, followed by {len(rest)} more\"\n",
    "        case {\"name\": name, \"age\": age}:\n",
    "            return f\"Person: {name}, {age} years old\"\n",
    "        case _:\n",
    "            return \"Unknown data format\"\n",
    "\n",
    "print(analyze_data([]))                          # \"Empty list\"\n",
    "print(analyze_data([42]))                        # \"Single item: 42\"\n",
    "print(analyze_data([1, 2]))                      # \"Two items: 1 and 2\"\n",
    "print(analyze_data([10, 20, 30, 40]))            # \"Multiple items starting with 10, followed by 3 more\"\n",
    "print(analyze_data({\"name\": \"Alice\", \"age\": 30}))  # \"Person: Alice, 30 years old\"\n",
    "print(analyze_data(\"string\"))                    # \"Unknown data format\""
   ]
  },
  {
   "cell_type": "markdown",
   "metadata": {},
   "source": [
    "#### 4.3.2 Loops\n",
    "Python's loops can be combined with various features for powerful iteration:"
   ]
  },
  {
   "cell_type": "code",
   "execution_count": 85,
   "metadata": {},
   "outputs": [
    {
     "name": "stdout",
     "output_type": "stream",
     "text": [
      "Fruit #1: apple\n",
      "Fruit #2: banana\n",
      "Fruit #3: cherry\n",
      "Fruit #4: date\n",
      "Alice is 25 years old\n",
      "Bob is 30 years old\n",
      "Charlie is 35 years old\n",
      "name: Dave\n",
      "age: 28\n",
      "role: Developer\n",
      "Flattened matrix: [1, 2, 3, 4, 5, 6, 7, 8, 9]\n",
      "Failed to guess 26 in 10 attempts\n"
     ]
    }
   ],
   "source": [
    "# Iterating with enumerate for index and value\n",
    "fruits = [\"apple\", \"banana\", \"cherry\", \"date\"]\n",
    "for i, fruit in enumerate(fruits, 1):  # Start counting from 1\n",
    "    print(f\"Fruit #{i}: {fruit}\")\n",
    "\n",
    "# Loop with multiple variables using zip\n",
    "names = [\"Alice\", \"Bob\", \"Charlie\"]\n",
    "ages = [25, 30, 35]\n",
    "for name, age in zip(names, ages):\n",
    "    print(f\"{name} is {age} years old\")\n",
    "\n",
    "# Loop with dictionary unpacking\n",
    "user = {\"name\": \"Dave\", \"age\": 28, \"role\": \"Developer\"}\n",
    "for key, value in user.items():\n",
    "    print(f\"{key}: {value}\")\n",
    "\n",
    "# Nested loop with flattening\n",
    "matrix = [[1, 2, 3], [4, 5, 6], [7, 8, 9]]\n",
    "flattened = [x for row in matrix for x in row]\n",
    "print(f\"Flattened matrix: {flattened}\")\n",
    "\n",
    "# While loop with complex condition\n",
    "import random\n",
    "attempts = 0\n",
    "target = random.randint(1, 100)\n",
    "guessed = False\n",
    "\n",
    "while attempts < 10 and not guessed:\n",
    "    guess = random.randint(1, 100)\n",
    "    attempts += 1\n",
    "    \n",
    "    if guess == target:\n",
    "        print(f\"Guessed {target} in {attempts} attempts!\")\n",
    "        guessed = True\n",
    "    elif attempts == 10:\n",
    "        print(f\"Failed to guess {target} in 10 attempts\")\n",
    "\n"
   ]
  },
  {
   "cell_type": "markdown",
   "metadata": {},
   "source": [
    "#### 4.3.3 Loops Control Mechanisms\n",
    "Python provides several ways to control loop execution:"
   ]
  },
  {
   "cell_type": "code",
   "execution_count": 86,
   "metadata": {},
   "outputs": [
    {
     "name": "stdout",
     "output_type": "stream",
     "text": [
      "First prime factor of 1001 is 7\n",
      "Skipping division by zero\n",
      "Skipping division by zero\n",
      "Results after division: [10.0, 20.0, 12.5, 33.333333333333336, 14.285714285714286]\n"
     ]
    }
   ],
   "source": [
    "# Break example: Finding the first prime factor\n",
    "def find_first_prime_factor(n):\n",
    "    if n <= 1:\n",
    "        return None\n",
    "    \n",
    "    for i in range(2, int(n**0.5) + 1):\n",
    "        if n % i == 0:\n",
    "            return i\n",
    "    \n",
    "    return n  # n is prime itself\n",
    "\n",
    "num = 1001\n",
    "factor = find_first_prime_factor(num)\n",
    "print(f\"First prime factor of {num} is {factor}\")\n",
    "\n",
    "# Continue example: Processing only certain items\n",
    "numbers = [10, 5, 0, 8, 3, 0, 7]\n",
    "results = []\n",
    "\n",
    "for num in numbers:\n",
    "    if num == 0:\n",
    "        print(\"Skipping division by zero\")\n",
    "        continue\n",
    "    \n",
    "    results.append(100 / num)\n",
    "\n",
    "print(f\"Results after division: {results}\")\n",
    "\n",
    "# Pass example: Creating placeholder code\n",
    "class DataProcessor:\n",
    "    def process_text(self, text):\n",
    "        # To be implemented later\n",
    "        pass\n",
    "    \n",
    "    def process_numbers(self, numbers):\n",
    "        return sum(numbers) / len(numbers) if numbers else 0\n",
    "\n",
    "\n"
   ]
  },
  {
   "cell_type": "markdown",
   "id": "37b02ff7",
   "metadata": {},
   "source": [
    "### 4.4 Functions\n",
    "\n",
    "Functions are your reusable recipes. Let's spice them up.\n",
    "\n",
    "#### 4.4.1 Function Definitions and Arguments\n"
   ]
  },
  {
   "cell_type": "code",
   "execution_count": 87,
   "id": "3dd21509",
   "metadata": {},
   "outputs": [
    {
     "name": "stdout",
     "output_type": "stream",
     "text": [
      "Hello, Alice!\n",
      "Hi, Bob!\n",
      "Welcome, Charlie.\n",
      "Hey, Dave...\n",
      "Sum of 1+2+3+4: 10\n",
      "Sum of 5+10+15: 30\n",
      "Profile: {'name': 'Alice', 'age': 30, 'job': 'Engineer', 'city': 'New York'}\n"
     ]
    }
   ],
   "source": [
    "# Basic function with default parameters\n",
    "def greet(name, greeting=\"Hello\", punctuation=\"!\"):\n",
    "    return f\"{greeting}, {name}{punctuation}\"\n",
    "\n",
    "print(greet(\"Alice\"))                   # \"Hello, Alice!\"\n",
    "print(greet(\"Bob\", \"Hi\"))               # \"Hi, Bob!\"\n",
    "print(greet(\"Charlie\", \"Welcome\", \".\")) # \"Welcome, Charlie.\"\n",
    "\n",
    "# Keyword arguments for readability\n",
    "print(greet(greeting=\"Hey\", name=\"Dave\", punctuation=\"...\"))\n",
    "\n",
    "# Variable-length positional arguments\n",
    "def sum_all(*args):\n",
    "    return sum(args)\n",
    "\n",
    "print(f\"Sum of 1+2+3+4: {sum_all(1, 2, 3, 4)}\")\n",
    "print(f\"Sum of 5+10+15: {sum_all(5, 10, 15)}\")\n",
    "\n",
    "# Variable-length keyword arguments\n",
    "def create_profile(**kwargs):\n",
    "    profile = {}\n",
    "    for key, value in kwargs.items():\n",
    "        profile[key] = value\n",
    "    return profile\n",
    "\n",
    "profile = create_profile(name=\"Alice\", age=30, job=\"Engineer\", city=\"New York\")\n",
    "print(f\"Profile: {profile}\")\n",
    "\n"
   ]
  },
  {
   "cell_type": "markdown",
   "id": "a4291511",
   "metadata": {},
   "source": [
    "#### 4.4.2 Variable Scope and Closures"
   ]
  },
  {
   "cell_type": "code",
   "execution_count": 88,
   "id": "52beb214",
   "metadata": {},
   "outputs": [
    {
     "name": "stdout",
     "output_type": "stream",
     "text": [
      "Inside outer_function: x=10, y=20\n",
      "Inside inner_function: x=10, y=20, z=30\n"
     ]
    }
   ],
   "source": [
    "# Local, enclosing, global, and built-in scopes (LEGB rule)\n",
    "x = 10  # Global variable\n",
    "\n",
    "def outer_function():\n",
    "    y = 20  # Enclosing variable\n",
    "    \n",
    "    def inner_function():\n",
    "        z = 30  # Local variable\n",
    "        print(f\"Inside inner_function: x={x}, y={y}, z={z}\")\n",
    "    \n",
    "    print(f\"Inside outer_function: x={x}, y={y}\")\n",
    "    inner_function()\n",
    "\n",
    "outer_function()\n",
    "\n",
    "# global , nonlocal key words\n",
    "\n"
   ]
  },
  {
   "cell_type": "markdown",
   "id": "2b973cf9",
   "metadata": {},
   "source": [
    "#### 4.4.3 Lambda Function \n",
    "Lambda functions provide a concise way to create small anonymous functions:"
   ]
  },
  {
   "cell_type": "code",
   "execution_count": 89,
   "id": "2dff91c8",
   "metadata": {},
   "outputs": [
    {
     "name": "stdout",
     "output_type": "stream",
     "text": [
      "Square of 5: 25\n",
      "5 + 3 = 8\n",
      "Students sorted by grade:\n",
      "  Alice: 92\n",
      "  Charlie: 90\n",
      "  Bob: 85\n",
      "Status for 85: Pass\n",
      "Status for 55: Fail\n",
      "Powers of 3: (9, 27, 81)\n",
      "Sum: 8\n",
      "Product: 15\n",
      "Max: 5\n"
     ]
    }
   ],
   "source": [
    "# Basic lambda usage\n",
    "square = lambda x: x ** 2\n",
    "print(f\"Square of 5: {square(5)}\")  # 25\n",
    "\n",
    "# Lambda with multiple arguments\n",
    "add = lambda x, y: x + y\n",
    "print(f\"5 + 3 = {add(5, 3)}\")  # 8\n",
    "\n",
    "# Lambda in sorting\n",
    "students = [\n",
    "    {\"name\": \"Alice\", \"grade\": 92},\n",
    "    {\"name\": \"Bob\", \"grade\": 85},\n",
    "    {\"name\": \"Charlie\", \"grade\": 90}\n",
    "]\n",
    "\n",
    "# Sort by grade\n",
    "sorted_by_grade = sorted(students, key=lambda s: s[\"grade\"], reverse=True)\n",
    "print(\"Students sorted by grade:\")\n",
    "for student in sorted_by_grade:\n",
    "    print(f\"  {student['name']}: {student['grade']}\")\n",
    "\n",
    "# Lambda with conditional expressions\n",
    "status = lambda x: \"Pass\" if x >= 60 else \"Fail\"\n",
    "print(f\"Status for 85: {status(85)}\")  # \"Pass\"\n",
    "print(f\"Status for 55: {status(55)}\")  # \"Fail\"\n",
    "\n",
    "# Lambda with multiple expressions (using comma)\n",
    "complex_lambda = lambda x: (x**2, x**3, x**4)\n",
    "print(f\"Powers of 3: {complex_lambda(3)}\")  # (9, 27, 81)\n",
    "\n",
    "# Lambda in functional programming\n",
    "def apply_operation(x, y, operation):\n",
    "    return operation(x, y)\n",
    "\n",
    "print(f\"Sum: {apply_operation(5, 3, lambda x, y: x + y)}\")\n",
    "print(f\"Product: {apply_operation(5, 3, lambda x, y: x * y)}\")\n",
    "print(f\"Max: {apply_operation(5, 3, lambda x, y: max(x, y))}\")"
   ]
  },
  {
   "cell_type": "markdown",
   "id": "bd62fcd1",
   "metadata": {},
   "source": [
    "### 4.5. Error Handling in Python\n",
    "\n",
    "Error handling helps your programs continue running even when things go wrong. Let's explore how Python handles errors through its exception system.\n",
    "#### 4.5.1 Try/Except Blocks\n",
    "\n",
    "The basic structure for handling errors in Python is the try/except block:\n",
    "\n"
   ]
  },
  {
   "cell_type": "code",
   "execution_count": 90,
   "id": "4bec7b8a",
   "metadata": {},
   "outputs": [
    {
     "name": "stdout",
     "output_type": "stream",
     "text": [
      "5.0\n",
      "Error: Cannot divide by zero!\n",
      "None\n"
     ]
    }
   ],
   "source": [
    "def divide_numbers(a, b):\n",
    "    \"\"\"Safely divide two numbers with error handling.\"\"\"\n",
    "    try:\n",
    "        result = a / b\n",
    "        return result\n",
    "    except ZeroDivisionError:\n",
    "        print(\"Error: Cannot divide by zero!\")\n",
    "        return None\n",
    "    \n",
    "# Example usage\n",
    "print(divide_numbers(10, 2))  # Returns 5.0\n",
    "print(divide_numbers(10, 0))  # Handles the error and returns None\n"
   ]
  },
  {
   "cell_type": "markdown",
   "id": "0a94eed9",
   "metadata": {},
   "source": [
    "#### 4.5.2 Catching Multiple Exceptions\n",
    "\n",
    "You can handle different types of errors in different ways:\n"
   ]
  },
  {
   "cell_type": "code",
   "execution_count": 91,
   "id": "d32dde45",
   "metadata": {},
   "outputs": [
    {
     "name": "stdout",
     "output_type": "stream",
     "text": [
      "3\n",
      "Error: Index 10 is out of range!\n",
      "None\n",
      "Error: Index must be an integer!\n",
      "None\n"
     ]
    }
   ],
   "source": [
    "def get_value_from_list(my_list, index):\n",
    "    \"\"\"Try to access a list element with proper error handling.\"\"\"\n",
    "    try:\n",
    "        return my_list[index]\n",
    "    except IndexError:\n",
    "        print(f\"Error: Index {index} is out of range!\")\n",
    "        return None\n",
    "    except TypeError:\n",
    "        print(\"Error: Index must be an integer!\")\n",
    "        return None\n",
    "\n",
    "# Examples\n",
    "numbers = [1, 2, 3, 4, 5]\n",
    "print(get_value_from_list(numbers, 2))    # Returns 3\n",
    "print(get_value_from_list(numbers, 10))   # Index error\n",
    "print(get_value_from_list(numbers, \"2\"))  # Type error"
   ]
  },
  {
   "cell_type": "markdown",
   "id": "13064182",
   "metadata": {},
   "source": [
    "#### 4.5.3 Raising Exceptions\n",
    "\n",
    "You can also create your own exceptions when something goes wrong:\n"
   ]
  },
  {
   "cell_type": "code",
   "execution_count": 92,
   "id": "8d1cf265",
   "metadata": {},
   "outputs": [
    {
     "name": "stdout",
     "output_type": "stream",
     "text": [
      "80.0\n",
      "An error occurred: Price must be a positive number\n"
     ]
    }
   ],
   "source": [
    "def calculate_discount(price, discount_percent):\n",
    "    \"\"\"Calculate the discounted price with validation.\"\"\"\n",
    "    if not isinstance(price, (int, float)) or price < 0:\n",
    "        raise ValueError(\"Price must be a positive number\")\n",
    "    \n",
    "    if not isinstance(discount_percent, (int, float)) or not (0 <= discount_percent <= 100):\n",
    "        raise ValueError(\"Discount must be a percentage between 0 and 100\")\n",
    "    \n",
    "    discount_amount = price * (discount_percent / 100)\n",
    "    return price - discount_amount\n",
    "\n",
    "# Using the function with error handling\n",
    "try:\n",
    "    print(calculate_discount(100, 20))  # Works: Returns 80.0\n",
    "    print(calculate_discount(-50, 10))  # Raises ValueError\n",
    "except ValueError as e:\n",
    "    print(f\"An error occurred: {e}\")"
   ]
  },
  {
   "cell_type": "markdown",
   "id": "e590ac41",
   "metadata": {},
   "source": [
    "#### 4.5.4 Finally Block\n",
    "\n",
    "The `finally` block runs regardless of whether an exception occurred:"
   ]
  },
  {
   "cell_type": "code",
   "execution_count": 93,
   "id": "91d89390",
   "metadata": {},
   "outputs": [
    {
     "name": "stdout",
     "output_type": "stream",
     "text": [
      "Error: The file 'example.txt' was not found.\n"
     ]
    }
   ],
   "source": [
    "def read_data_from_file(filename):\n",
    "    \"\"\"Read data from a file with proper cleanup.\"\"\"\n",
    "    file = None\n",
    "    try:\n",
    "        file = open(filename, 'r')\n",
    "        return file.read()\n",
    "    except FileNotFoundError:\n",
    "        print(f\"Error: The file '{filename}' was not found.\")\n",
    "        return None\n",
    "    finally:\n",
    "        if file:  # Ensure file is not None before closing\n",
    "            file.close()\n",
    "            print(f\"File '{filename}' has been closed.\")\n",
    "\n",
    "# Example usage \n",
    "data = read_data_from_file(\"example.txt\")  # Will close the file only if it was opened\n"
   ]
  },
  {
   "cell_type": "markdown",
   "metadata": {},
   "source": [
    "### 4.6. File Systems and File Operations\n",
    "\n",
    "In Python, interacting with the file system is crucial for reading, writing, and managing files efficiently.\n",
    "\n",
    "#### 4.6.1 File System Modules in Python\n",
    "\n",
    "Python provides built-in modules to interact with the file system effectively. These modules allow us to manipulate files and directories with ease.\n",
    "\n",
    "##### 4.6.1.1 `os` Module\n",
    "\n",
    "The `os` module provides functions to interact with the operating system, including file and directory management.\n",
    "\n",
    "**Key Functions:**\n",
    "- `os.listdir(path)`: Lists files and directories in the specified path.\n",
    "- `os.mkdir(path)`: Creates a new directory.\n",
    "- `os.remove(path)`: Deletes a file.\n",
    "- `os.rename(src, dst)`: Renames a file or directory.\n",
    "- `os.rmdir(path)`: Removes an empty directory.\n",
    "- `os.path.join(path1, path2)`: Joins paths in a platform-independent way.\n",
    "- `os.path.exists(path)`: Checks if a path exists.\n",
    "\n",
    "**Example - Creating and Managing Directories**"
   ]
  },
  {
   "cell_type": "code",
   "execution_count": null,
   "metadata": {},
   "outputs": [],
   "source": [
    "import os\n",
    "\n",
    "# Create a directory\n",
    "os.mkdir(\"my_folder\")\n",
    "\n",
    "# Rename a file\n",
    "os.rename(\"old_name.txt\", \"new_name.txt\")\n",
    "\n",
    "# Delete a file\n",
    "os.remove(\"new_name.txt\")\n",
    "\n",
    "# Remove an empty directory\n",
    "os.rmdir(\"my_folder\")"
   ]
  },
  {
   "cell_type": "markdown",
   "metadata": {},
   "source": [
    "##### 4.6.1.2 `os.path` Module\n",
    "\n",
    "The `os.path` module helps in handling file and directory paths.\n",
    "\n",
    "**Key Functions:**\n",
    "- `os.path.exists(path)`: Checks if a file or directory exists.\n",
    "- `os.path.isdir(path)`: Checks if a path is a directory.\n",
    "- `os.path.isfile(path)`: Checks if a path is a file.\n",
    "- `os.path.split(path)`: Splits a file path into directory and file components.\n",
    "\n",
    "**Example - Checking Path Properties**"
   ]
  },
  {
   "cell_type": "code",
   "execution_count": null,
   "metadata": {},
   "outputs": [],
   "source": [
    "import os\n",
    "path = \"my_folder/my_file.txt\"\n",
    "\n",
    "if os.path.exists(path):\n",
    "    print(f\"{path} exists.\")\n",
    "if os.path.isdir(path):\n",
    "    print(f\"{path} is a directory.\")\n",
    "else:\n",
    "    print(f\"{path} is a file.\")"
   ]
  },
  {
   "cell_type": "markdown",
   "metadata": {},
   "source": [
    "##### 4.6.1.3 `shutil` Module\n",
    "\n",
    "The `shutil` module is used for high-level file operations like copying, moving, and deleting files and directories.\n",
    "\n",
    "**Key Functions:**\n",
    "- `shutil.copy(src, dst)`: Copies a file.\n",
    "- `shutil.move(src, dst)`: Moves a file or directory.\n",
    "- `shutil.rmtree(path)`: Deletes a directory and its contents.\n",
    "- `shutil.make_archive(base_name, format, root_dir)`: Creates an archive file.\n",
    "\n",
    "**Example - Copying and Moving Files**"
   ]
  },
  {
   "cell_type": "code",
   "execution_count": null,
   "metadata": {},
   "outputs": [],
   "source": [
    "import shutil\n",
    "\n",
    "# Copy a file\n",
    "shutil.copy(\"source.txt\", \"destination.txt\")\n",
    "\n",
    "# Move a file\n",
    "shutil.move(\"file.txt\", \"new_folder/\")\n",
    "\n",
    "# Remove a directory\n",
    "shutil.rmtree(\"old_folder\")"
   ]
  },
  {
   "cell_type": "markdown",
   "metadata": {},
   "source": [
    "##### 4.6.1.4 `pathlib` Module\n",
    "\n",
    "The `pathlib` module provides an object-oriented approach to working with file paths.\n",
    "\n",
    "**Key Features:**\n",
    "- `Path.exists()`: Checks if a file or directory exists.\n",
    "- `Path.mkdir()`: Creates a directory.\n",
    "- `Path.rename()`: Renames a file or directory.\n",
    "- `Path.is_file()`: Checks if a path is a file.\n",
    "- `Path.is_dir()`: Checks if a path is a directory.\n",
    "\n",
    "**Example - Path Object-Oriented Way**"
   ]
  },
  {
   "cell_type": "code",
   "execution_count": null,
   "metadata": {},
   "outputs": [],
   "source": [
    "from pathlib import Path\n",
    "\n",
    "file_path = Path(\"my_folder/my_file.txt\")\n",
    "if file_path.exists():\n",
    "    print(f\"{file_path} exists.\")\n",
    "\n",
    "new_folder = Path(\"new_folder\")\n",
    "new_folder.mkdir(parents=True, exist_ok=True)"
   ]
  },
  {
   "cell_type": "markdown",
   "metadata": {},
   "source": [
    "##### 4.6.1.5 `glob` Module\n",
    "\n",
    "The `glob` module is used to find all file paths matching a pattern.\n",
    "\n",
    "**Key Functions:**\n",
    "- `glob.glob(pattern)`: Returns a list of matching files.\n",
    "- `glob.iglob(pattern)`: Returns an iterator for matching files.\n",
    "\n",
    "**Example - Finding Specific Files**"
   ]
  },
  {
   "cell_type": "code",
   "execution_count": null,
   "metadata": {},
   "outputs": [],
   "source": [
    "import glob\n",
    "\n",
    "# Find all .txt files in the current directory\n",
    "txt_files = glob.glob(\"*.txt\")\n",
    "print(txt_files)"
   ]
  },
  {
   "cell_type": "markdown",
   "metadata": {},
   "source": [
    "#### 4.6.2 File Handling in Python\n",
    "\n",
    "Python provides built-in functions to open, write, and close files efficiently.\n",
    "\n",
    "##### 4.6.2.1 `open()` Function\n",
    "\n",
    "The `open()` function is used to open a file in various modes.\n",
    "\n",
    "**Syntax:**\n",
    "```python\n",
    "file = open(file_path, mode)\n",
    "```\n",
    "\n",
    "**Common Modes:**\n",
    "| Mode | Description |\n",
    "|------|------------|\n",
    "| `\"r\"` | Read mode (default). |\n",
    "| `\"w\"` | Write mode (overwrites file). |\n",
    "| `\"a\"` | Append mode (adds to existing file). |\n",
    "| `\"x\"` | Exclusive mode (fails if file exists). |\n",
    "| `\"b\"` | Binary mode (used with `r`, `w`, or `a`). |\n",
    "| `\"t\"` | Text mode (default). |\n",
    "| `\"r+\"` | Read and write mode. |\n",
    "| `\"w+\"` | Write and read mode (overwrites). |\n",
    "| `\"a+\"` | Append and read mode. |\n",
    "\n",
    "**Example - Opening a File for Reading**"
   ]
  },
  {
   "cell_type": "code",
   "execution_count": null,
   "metadata": {},
   "outputs": [],
   "source": [
    "file = open(\"example.txt\", \"r\")\n",
    "content = file.read()\n",
    "print(content)\n",
    "file.close()"
   ]
  },
  {
   "cell_type": "markdown",
   "metadata": {},
   "source": [
    "##### 4.6.2.2 `write()` Function\n",
    "\n",
    "The `write()` function writes content to a file.\n",
    "\n",
    "**Example - Writing to a File**"
   ]
  },
  {
   "cell_type": "code",
   "execution_count": null,
   "metadata": {},
   "outputs": [],
   "source": [
    "file = open(\"example.txt\", \"w\")\n",
    "file.write(\"Hello, World!\")\n",
    "file.close()"
   ]
  },
  {
   "cell_type": "markdown",
   "metadata": {},
   "source": [
    "**Appending to a File**"
   ]
  },
  {
   "cell_type": "code",
   "execution_count": null,
   "metadata": {},
   "outputs": [],
   "source": [
    "file = open(\"example.txt\", \"a\")\n",
    "file.write(\"\\nAdding a new line.\")\n",
    "file.close()"
   ]
  },
  {
   "cell_type": "markdown",
   "metadata": {},
   "source": [
    "##### 4.6.2.3 `close()` Function\n",
    "\n",
    "The `close()` function ensures proper file handling and prevents data loss.\n",
    "\n",
    "**Example - Closing a File Properly**"
   ]
  },
  {
   "cell_type": "code",
   "execution_count": null,
   "metadata": {},
   "outputs": [],
   "source": [
    "file = open(\"example.txt\", \"w\")\n",
    "file.write(\"Closing this file.\")\n",
    "file.close()"
   ]
  },
  {
   "cell_type": "markdown",
   "metadata": {},
   "source": [
    "**Using `with` Statement (Best Practice)**"
   ]
  },
  {
   "cell_type": "code",
   "execution_count": null,
   "metadata": {},
   "outputs": [],
   "source": [
    "with open(\"example.txt\", \"w\") as file:\n",
    "    file.write(\"File handling with 'with' ensures safety!\")"
   ]
  }
 ],
 "metadata": {
  "kernelspec": {
   "display_name": "Python 3",
   "language": "python",
   "name": "python3"
  },
  "language_info": {
   "codemirror_mode": {
    "name": "ipython",
    "version": 3
   },
   "file_extension": ".py",
   "mimetype": "text/x-python",
   "name": "python",
   "nbconvert_exporter": "python",
   "pygments_lexer": "ipython3",
   "version": "3.11.9"
  }
 },
 "nbformat": 4,
 "nbformat_minor": 5
}
